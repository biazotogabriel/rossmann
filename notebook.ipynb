{
 "cells": [
  {
   "cell_type": "code",
   "execution_count": 325,
   "id": "db82f9df",
   "metadata": {
    "ExecuteTime": {
     "end_time": "2023-04-03T20:24:44.640086Z",
     "start_time": "2023-04-03T20:24:44.635376Z"
    }
   },
   "outputs": [
    {
     "data": {
      "text/html": [
       "<style>.container { width:calc(100% - 350px) !important; } body { height:100% !important; }</style>"
      ],
      "text/plain": [
       "<IPython.core.display.HTML object>"
      ]
     },
     "metadata": {},
     "output_type": "display_data"
    }
   ],
   "source": [
    "from IPython.core.display import HTML\n",
    "\n",
    "display(HTML(\"<style>.container { width:calc(100% - 350px) !important; } body { height:100% !important; }</style>\"))"
   ]
  },
  {
   "cell_type": "markdown",
   "id": "e1b0323f",
   "metadata": {},
   "source": [
    "# The company"
   ]
  },
  {
   "cell_type": "markdown",
   "id": "c44f7e3d",
   "metadata": {
    "ExecuteTime": {
     "end_time": "2023-03-31T23:50:35.670687Z",
     "start_time": "2023-03-31T23:50:35.659490Z"
    }
   },
   "source": [
    "<img src=\"rossmann.jpg\" alt=\"Rossmann logo\" width=\"300\">\n",
    "Rossmann its one of the largest drug store chains in Europe with around 56k employers and more than 4000 stores.\n",
    "The product range includes around 22k items and can vary depending of the size of the shop and the location. \n",
    "In addition to drugstore products with a focus on skin, hair, body, baby and health, Rossmann also offers others items like pet food, photo service and a large range of natural foods and wine.  \n",
    "(last update 2019)"
   ]
  },
  {
   "cell_type": "markdown",
   "id": "615fe1cd",
   "metadata": {},
   "source": [
    "# Business Problem"
   ]
  },
  {
   "cell_type": "markdown",
   "id": "9b7266c4",
   "metadata": {},
   "source": [
    "What is the store sales prediction for the next six month?\n",
    "\n",
    "The CEO has difficulty defining the amount of money to invest in renovating some stores.\n",
    "Talking to the CEO, he explained that knowing the total sales for each store for the next six months, he would be able to define whether or not to invest in renovations.\n",
    "Understanding that the solution suggested by the CEO seems to solve your problem. It was proposed the development of a machine learning algorithm with the objective of predicting the revenue of each store for the next six weeks."
   ]
  },
  {
   "cell_type": "markdown",
   "id": "cea8188f",
   "metadata": {},
   "source": [
    "# Correlation Hypotheses"
   ]
  },
  {
   "cell_type": "markdown",
   "id": "0b0d1556",
   "metadata": {},
   "source": [
    "What could correlate (interfere) with the total sales in each store?\n",
    "<img src=\"hipotesis.png\" alt=\"Rossmann logo\" width=\"100%\">"
   ]
  },
  {
   "cell_type": "markdown",
   "id": "0948fe73",
   "metadata": {},
   "source": [
    "## Time"
   ]
  },
  {
   "cell_type": "markdown",
   "id": "6fddfa67",
   "metadata": {},
   "source": [
    "- There is a seasonality in the volume of the sales (general business knowledge)\n",
    "- More sales are made on holidays (general perception of the sales team)  \n",
    "- More sales are made on promotions day (general perception of the sales team)"
   ]
  },
  {
   "cell_type": "markdown",
   "id": "fb93ab4a",
   "metadata": {
    "ExecuteTime": {
     "end_time": "2023-04-01T00:38:14.989275Z",
     "start_time": "2023-04-01T00:38:14.982784Z"
    }
   },
   "source": [
    "## Products"
   ]
  },
  {
   "cell_type": "markdown",
   "id": "11bb0689",
   "metadata": {},
   "source": [
    "- Products on sale sell more\n",
    "- Prices do not determine the volume of sales of a given product\n",
    "- Products with active marketing campaigns sell more\n",
    "- Products with more exhibition sell more\n",
    "- Products with stock sell more"
   ]
  },
  {
   "cell_type": "markdown",
   "id": "23df5963",
   "metadata": {},
   "source": [
    "## Localization"
   ]
  },
  {
   "cell_type": "markdown",
   "id": "6bc926cf",
   "metadata": {},
   "source": [
    "- Proximity to related businesses increases sales\n",
    "- Stores located in populated areas sell more\n",
    "- The total sales pattern changes by country"
   ]
  },
  {
   "cell_type": "markdown",
   "id": "bb367512",
   "metadata": {},
   "source": [
    "## Stores"
   ]
  },
  {
   "cell_type": "markdown",
   "id": "f766e471",
   "metadata": {},
   "source": [
    "- Stores with a greater variety of products sell more\n",
    "- Bigger stores sell more\n",
    "- Stores with close competitors sell less"
   ]
  },
  {
   "cell_type": "markdown",
   "id": "c1d375e1",
   "metadata": {},
   "source": [
    "## Clients"
   ]
  },
  {
   "cell_type": "markdown",
   "id": "0fa4cf7b",
   "metadata": {},
   "source": [
    "- O total que o cliente já comprou na rede tem relação com o seu padrao de compra\n",
    "- Clientes com mais filhos compram mais\n",
    "- Clientes com salários maiores compram mais\n",
    "- A idade impacta no volume gasto pelos cliente\n",
    "- A profissão impacta no volume gasto pelo cliente\n",
    "- Se o cliente tem família ele gasta mais\n",
    "- Clientes com maior frequencia de compras tendem a gastar mais"
   ]
  },
  {
   "cell_type": "markdown",
   "id": "a8c96b04",
   "metadata": {},
   "source": [
    "# Data Collect"
   ]
  },
  {
   "cell_type": "markdown",
   "id": "d0e4fd8c",
   "metadata": {},
   "source": [
    "According to the hypotheses above, the following list of data to be collected was raised:\n",
    "- Daily sales amount\n",
    "- Data\n",
    "- There is a holiday? Which One?\n",
    "- Is it a promotional day? Which One?\n",
    "- The products selled on that day with:\n",
    "  - Its price\n",
    "  - If was on sale\n",
    "  - If there was a marketing campaign\n",
    "  - If it was exhibited\n",
    "  - The stock\n",
    "- The proximity of the store with related business\n",
    "- Kind of area the store is located (country/city)\n",
    "- Country where the store is located\n",
    "- Variety of products of the store\n",
    "- Size (area) of the store\n",
    "- Proximity with competitors"
   ]
  },
  {
   "cell_type": "markdown",
   "id": "ad103c90",
   "metadata": {},
   "source": [
    "As this is a fictitious project carried out using data provided by Rossmann.  \n",
    "The data collection step is summarized in picking up the datasets available at the link below:  \n",
    "https://www.kaggle.com/competitions/rossmann-store-sales/data  \n",
    "Hypotheses that depend on features that are not in the dataset will be automatically discarded."
   ]
  },
  {
   "cell_type": "markdown",
   "id": "86161304",
   "metadata": {
    "ExecuteTime": {
     "end_time": "2023-03-31T23:20:01.316177Z",
     "start_time": "2023-03-31T23:20:01.308241Z"
    }
   },
   "source": [
    "# Libraries"
   ]
  },
  {
   "cell_type": "markdown",
   "id": "8f0ea573",
   "metadata": {
    "ExecuteTime": {
     "end_time": "2023-04-01T10:34:44.661481Z",
     "start_time": "2023-04-01T10:34:44.658393Z"
    }
   },
   "source": [
    "## Installs"
   ]
  },
  {
   "cell_type": "code",
   "execution_count": 12,
   "id": "8e6f0747",
   "metadata": {
    "ExecuteTime": {
     "end_time": "2023-04-03T21:15:59.052504Z",
     "start_time": "2023-04-03T21:15:56.425093Z"
    }
   },
   "outputs": [
    {
     "name": "stdout",
     "output_type": "stream",
     "text": [
      "Requirement already satisfied: inflection in /home/biazotogabriel/.anaconda3/lib/python3.9/site-packages (0.5.1)\r\n"
     ]
    }
   ],
   "source": [
    "!pip install inflection"
   ]
  },
  {
   "cell_type": "markdown",
   "id": "134e5390",
   "metadata": {},
   "source": [
    "## Imports"
   ]
  },
  {
   "cell_type": "code",
   "execution_count": 13,
   "id": "ae618949",
   "metadata": {
    "ExecuteTime": {
     "end_time": "2023-04-03T21:15:59.106808Z",
     "start_time": "2023-04-03T21:15:59.102725Z"
    }
   },
   "outputs": [],
   "source": [
    "import pandas as pd\n",
    "import numpy as np\n",
    "import seaborn as sns\n",
    "import matplotlib.pyplot as plt\n",
    "import inflection"
   ]
  },
  {
   "cell_type": "markdown",
   "id": "5a288854",
   "metadata": {
    "ExecuteTime": {
     "end_time": "2023-04-01T10:37:41.454206Z",
     "start_time": "2023-04-01T10:37:41.452208Z"
    }
   },
   "source": [
    "## Functions"
   ]
  },
  {
   "cell_type": "code",
   "execution_count": 2,
   "id": "400215a3",
   "metadata": {
    "ExecuteTime": {
     "end_time": "2023-04-03T21:14:56.323951Z",
     "start_time": "2023-04-03T21:14:56.265692Z"
    }
   },
   "outputs": [],
   "source": [
    "# I'm going to create a lib for it\n",
    "import inspect\n",
    "from IPython.display import clear_output\n",
    "\n",
    "class Tracker: \n",
    "    def __init__(self, data=None):\n",
    "        self.last_process_consolidated = -1\n",
    "        self.processes = []\n",
    "        self.backups = {}\n",
    "        self.data = data\n",
    "        if self.data is not None:\n",
    "            self.backups[-1] = self.data\n",
    "        \n",
    "    def get_last_backup_id(self, older_than=float('inf')):\n",
    "        last_backup_id = max([key for key in self.backups.keys() if key < older_than])\n",
    "        return last_backup_id\n",
    "    \n",
    "    def get_process_id(self, column, action):\n",
    "        for _id, process in enumerate(self.processes):\n",
    "            if (process['column'] == column) and (process['action'] == action):\n",
    "                return _id                \n",
    "        return None\n",
    "    \n",
    "    def is_same_function(self, _id, function):\n",
    "        return inspect.getsource(function) == inspect.getsource(self.processes[_id]['function'])\n",
    "    \n",
    "    def purge_backups(self, newer_than=0):\n",
    "        self.backups = {key: value for key, value in self.backups.items() if key <= newer_than}\n",
    "        return None\n",
    "    \n",
    "    def rolback_consolidation(self, backup_id):\n",
    "        self.last_process_consolidated, self.data = backup_id, self.backups[backup_id].copy()\n",
    "        self.purge_backups(backup_id)   \n",
    "        for _id, process in enumerate(self.processes):\n",
    "            if _id > backup_id:\n",
    "                process['consolidated'] = False\n",
    "            \n",
    "    def consolidate(self, until_process=float('inf')):\n",
    "        if self.data is not None:\n",
    "            last_process = len(self.processes) - 1\n",
    "            until_process = min(until_process, last_process)         \n",
    "            proccesses_list = range(self.last_process_consolidated + 1 ,until_process + 1)\n",
    "            if len(proccesses_list) > 1:\n",
    "                answer = input('More than 1 process to consolidate. Do you want to continue? [Y to continue]')\n",
    "                clear_output()\n",
    "                if answer != 'Y':       \n",
    "                    print('Preprocessing data not consolidated.')\n",
    "                    return None\n",
    "            for _id in proccesses_list:\n",
    "                self.data = self.processes[_id]['function'](self.data)\n",
    "                self.processes[_id]['consolidated'] = True\n",
    "                self.last_process_consolidated = _id \n",
    "        return None\n",
    "\n",
    "    def track(self, column='_general_', action='_general_', function=lambda data: data, description='_general_'):\n",
    "        process = {'column': column, \n",
    "                   'action': action, \n",
    "                   'function': function, \n",
    "                   'description': description,\n",
    "                   'consolidated': False}\n",
    "        process_id = self.get_process_id(column, action)      \n",
    "        if process_id is None:\n",
    "            self.processes.append(process)\n",
    "            self.consolidate()\n",
    "        else:\n",
    "            if (self.data is not None) and self.processes[process_id]['consolidated']:\n",
    "                if self.is_same_function(process_id, function):\n",
    "                    process['consolidated'] = self.processes[process_id]['consolidated']\n",
    "                else:\n",
    "                    last_backup_id = self.get_last_backup_id(process_id)\n",
    "                    answer = input(f'''Process  [{process_id} | {column} | {action}] already exists with another function.\n",
    "If you continue, the consolidating of the data will be returned to the process {last_backup_id} (last consolidated backup).\n",
    "All processes after this one must be re-executed.\n",
    "Do you want continue? [Y to continue] :''')\n",
    "                    clear_output()\n",
    "                    if answer != 'Y':\n",
    "                        print('Tracking aborted.')\n",
    "                        return None\n",
    "                    self.rolback_consolidation(last_backup_id)        \n",
    "                    \n",
    "            self.processes[process_id] = process\n",
    "            self.consolidate(process_id)\n",
    "        #print(description)\n",
    "        return None\n",
    "    \n",
    "    def set_process_order(self, column, action, new_order, consolidate=True):\n",
    "        process_id = self.get_process_id(column, action)\n",
    "        last_consolidated_id = min(process_id, new_order) - 1\n",
    "        last_backup_id = self.get_last_backup_id(last_consolidated_id)\n",
    "        self.rolback_consolidation(last_backup_id)\n",
    "        process = self.processes.pop(process_id)\n",
    "        self.processes.insert(new_order, process)\n",
    "        if consolidate:\n",
    "            self.consolidate()\n",
    "        return None    \n",
    "    \n",
    "    def status(self):\n",
    "        status = ' flag | id - column - action - description \\n'\n",
    "        for _id, process in enumerate(self.processes):\n",
    "            consolidated_flag = '>>' if _id == self.last_process_consolidated else '  '\n",
    "            backup_flag = 'b' if self.backups.get(_id) is not None else ' '\n",
    "            status += f\" {consolidated_flag} {backup_flag} | {_id} - {process['column']} - {process['action']} - {process['description']}\\n\"\n",
    "        status += '\\n[>>: last consolidated | b: backed up]'\n",
    "        print(status)\n",
    "        return None\n",
    "    \n",
    "    def backup(self):\n",
    "        if self.data is not None:\n",
    "            self.backups[self.last_process_consolidated] = self.data.copy()\n",
    "            print(f'Created backup of data with processes executed up to process {self.last_process_consolidated}')\n",
    "        else:\n",
    "            print('Impossible to backup. The preprocessing instance contains no data')\n",
    "        return None\n",
    "    \n",
    "    def view_processes(self):\n",
    "        processes_list = ''\n",
    "        for process in self.processes:\n",
    "            processes_list += f\"('{process['column']}', '{process['action']}'), # {process['description']}\" + '\\n'\n",
    "        print(processes_list)\n",
    "        return None\n",
    "        \n",
    "    def process(self, data): \n",
    "        for process in self.processes:\n",
    "            data = process['function'](data)\n",
    "        return data"
   ]
  },
  {
   "cell_type": "markdown",
   "id": "e99ac117",
   "metadata": {},
   "source": [
    "# Data Loading"
   ]
  },
  {
   "cell_type": "code",
   "execution_count": 3,
   "id": "a008d7df",
   "metadata": {
    "ExecuteTime": {
     "end_time": "2023-04-03T21:15:04.127156Z",
     "start_time": "2023-04-03T21:15:03.632139Z"
    }
   },
   "outputs": [],
   "source": [
    "df_sales_raw = pd.read_csv('datasets/train.csv', low_memory=False)\n",
    "df_stores_raw = pd.read_csv('datasets/store.csv', low_memory=False)"
   ]
  },
  {
   "cell_type": "code",
   "execution_count": 4,
   "id": "61df6ced",
   "metadata": {
    "ExecuteTime": {
     "end_time": "2023-04-03T21:15:04.583011Z",
     "start_time": "2023-04-03T21:15:04.154506Z"
    }
   },
   "outputs": [
    {
     "data": {
      "text/html": [
       "<div>\n",
       "<style scoped>\n",
       "    .dataframe tbody tr th:only-of-type {\n",
       "        vertical-align: middle;\n",
       "    }\n",
       "\n",
       "    .dataframe tbody tr th {\n",
       "        vertical-align: top;\n",
       "    }\n",
       "\n",
       "    .dataframe thead th {\n",
       "        text-align: right;\n",
       "    }\n",
       "</style>\n",
       "<table border=\"1\" class=\"dataframe\">\n",
       "  <thead>\n",
       "    <tr style=\"text-align: right;\">\n",
       "      <th></th>\n",
       "      <th>Store</th>\n",
       "      <th>DayOfWeek</th>\n",
       "      <th>Date</th>\n",
       "      <th>Sales</th>\n",
       "      <th>Customers</th>\n",
       "      <th>Open</th>\n",
       "      <th>Promo</th>\n",
       "      <th>StateHoliday</th>\n",
       "      <th>SchoolHoliday</th>\n",
       "      <th>StoreType</th>\n",
       "      <th>Assortment</th>\n",
       "      <th>CompetitionDistance</th>\n",
       "      <th>CompetitionOpenSinceMonth</th>\n",
       "      <th>CompetitionOpenSinceYear</th>\n",
       "      <th>Promo2</th>\n",
       "      <th>Promo2SinceWeek</th>\n",
       "      <th>Promo2SinceYear</th>\n",
       "      <th>PromoInterval</th>\n",
       "    </tr>\n",
       "  </thead>\n",
       "  <tbody>\n",
       "    <tr>\n",
       "      <th>134432</th>\n",
       "      <td>633</td>\n",
       "      <td>4</td>\n",
       "      <td>2015-04-02</td>\n",
       "      <td>9488</td>\n",
       "      <td>716</td>\n",
       "      <td>1</td>\n",
       "      <td>1</td>\n",
       "      <td>0</td>\n",
       "      <td>1</td>\n",
       "      <td>d</td>\n",
       "      <td>a</td>\n",
       "      <td>11640.0</td>\n",
       "      <td>4.0</td>\n",
       "      <td>2005.0</td>\n",
       "      <td>1</td>\n",
       "      <td>22.0</td>\n",
       "      <td>2011.0</td>\n",
       "      <td>Jan,Apr,Jul,Oct</td>\n",
       "    </tr>\n",
       "    <tr>\n",
       "      <th>527888</th>\n",
       "      <td>164</td>\n",
       "      <td>6</td>\n",
       "      <td>2014-03-15</td>\n",
       "      <td>4160</td>\n",
       "      <td>424</td>\n",
       "      <td>1</td>\n",
       "      <td>0</td>\n",
       "      <td>0</td>\n",
       "      <td>0</td>\n",
       "      <td>a</td>\n",
       "      <td>a</td>\n",
       "      <td>1160.0</td>\n",
       "      <td>9.0</td>\n",
       "      <td>2005.0</td>\n",
       "      <td>1</td>\n",
       "      <td>13.0</td>\n",
       "      <td>2010.0</td>\n",
       "      <td>Jan,Apr,Jul,Oct</td>\n",
       "    </tr>\n",
       "    <tr>\n",
       "      <th>384308</th>\n",
       "      <td>244</td>\n",
       "      <td>6</td>\n",
       "      <td>2014-07-26</td>\n",
       "      <td>3266</td>\n",
       "      <td>461</td>\n",
       "      <td>1</td>\n",
       "      <td>0</td>\n",
       "      <td>0</td>\n",
       "      <td>0</td>\n",
       "      <td>d</td>\n",
       "      <td>a</td>\n",
       "      <td>710.0</td>\n",
       "      <td>3.0</td>\n",
       "      <td>2012.0</td>\n",
       "      <td>1</td>\n",
       "      <td>1.0</td>\n",
       "      <td>2012.0</td>\n",
       "      <td>Jan,Apr,Jul,Oct</td>\n",
       "    </tr>\n",
       "    <tr>\n",
       "      <th>386449</th>\n",
       "      <td>561</td>\n",
       "      <td>4</td>\n",
       "      <td>2014-07-24</td>\n",
       "      <td>5137</td>\n",
       "      <td>592</td>\n",
       "      <td>1</td>\n",
       "      <td>0</td>\n",
       "      <td>0</td>\n",
       "      <td>1</td>\n",
       "      <td>d</td>\n",
       "      <td>a</td>\n",
       "      <td>14300.0</td>\n",
       "      <td>NaN</td>\n",
       "      <td>NaN</td>\n",
       "      <td>0</td>\n",
       "      <td>NaN</td>\n",
       "      <td>NaN</td>\n",
       "      <td>NaN</td>\n",
       "    </tr>\n",
       "    <tr>\n",
       "      <th>431665</th>\n",
       "      <td>946</td>\n",
       "      <td>2</td>\n",
       "      <td>2014-06-10</td>\n",
       "      <td>4318</td>\n",
       "      <td>573</td>\n",
       "      <td>1</td>\n",
       "      <td>0</td>\n",
       "      <td>0</td>\n",
       "      <td>0</td>\n",
       "      <td>a</td>\n",
       "      <td>a</td>\n",
       "      <td>2220.0</td>\n",
       "      <td>12.0</td>\n",
       "      <td>2011.0</td>\n",
       "      <td>1</td>\n",
       "      <td>14.0</td>\n",
       "      <td>2015.0</td>\n",
       "      <td>Jan,Apr,Jul,Oct</td>\n",
       "    </tr>\n",
       "  </tbody>\n",
       "</table>\n",
       "</div>"
      ],
      "text/plain": [
       "        Store  DayOfWeek        Date  Sales  Customers  Open  Promo  \\\n",
       "134432    633          4  2015-04-02   9488        716     1      1   \n",
       "527888    164          6  2014-03-15   4160        424     1      0   \n",
       "384308    244          6  2014-07-26   3266        461     1      0   \n",
       "386449    561          4  2014-07-24   5137        592     1      0   \n",
       "431665    946          2  2014-06-10   4318        573     1      0   \n",
       "\n",
       "       StateHoliday  SchoolHoliday StoreType Assortment  CompetitionDistance  \\\n",
       "134432            0              1         d          a              11640.0   \n",
       "527888            0              0         a          a               1160.0   \n",
       "384308            0              0         d          a                710.0   \n",
       "386449            0              1         d          a              14300.0   \n",
       "431665            0              0         a          a               2220.0   \n",
       "\n",
       "        CompetitionOpenSinceMonth  CompetitionOpenSinceYear  Promo2  \\\n",
       "134432                        4.0                    2005.0       1   \n",
       "527888                        9.0                    2005.0       1   \n",
       "384308                        3.0                    2012.0       1   \n",
       "386449                        NaN                       NaN       0   \n",
       "431665                       12.0                    2011.0       1   \n",
       "\n",
       "        Promo2SinceWeek  Promo2SinceYear    PromoInterval  \n",
       "134432             22.0           2011.0  Jan,Apr,Jul,Oct  \n",
       "527888             13.0           2010.0  Jan,Apr,Jul,Oct  \n",
       "384308              1.0           2012.0  Jan,Apr,Jul,Oct  \n",
       "386449              NaN              NaN              NaN  \n",
       "431665             14.0           2015.0  Jan,Apr,Jul,Oct  "
      ]
     },
     "execution_count": 4,
     "metadata": {},
     "output_type": "execute_result"
    }
   ],
   "source": [
    "df_raw = df_sales_raw.merge(df_stores_raw, how='left', on='Store')\n",
    "df_raw.sample(5)"
   ]
  },
  {
   "cell_type": "markdown",
   "id": "ba70cbc4",
   "metadata": {},
   "source": [
    "# Initial Data Description"
   ]
  },
  {
   "cell_type": "code",
   "execution_count": 5,
   "id": "1dd17897",
   "metadata": {
    "ExecuteTime": {
     "end_time": "2023-04-03T21:15:05.993963Z",
     "start_time": "2023-04-03T21:15:05.985410Z"
    },
    "hide_input": false
   },
   "outputs": [],
   "source": [
    "df_idd = pd.DataFrame()\n",
    "df_idd.index = df_raw.columns\n",
    "df_idd['column'] = df_raw.columns\n",
    "df_idd.loc['Store', 'description'] = 'a unique Id for each store'  \n",
    "df_idd.loc['DayOfWeek', 'description'] = 'day of week'  \n",
    "df_idd.loc['Date', 'description'] = 'data'  \n",
    "df_idd.loc['Sales', 'description'] = 'the turnover for any given day (this is what you are predicting)'  \n",
    "df_idd.loc['Customers', 'description'] = 'the number of customers on a given day'\n",
    "df_idd.loc['Open', 'description'] = 'an indicator for whether the store was open: 0 = closed, 1 = open'\n",
    "df_idd.loc['Promo', 'description'] = 'indicates whether a store is running a promo on that day'\n",
    "df_idd.loc['StateHoliday', 'description'] = ' indicates a state holiday. Normally all stores, with few exceptions, are closed on state holidays. Note that all schools are closed on public holidays and weekends. a = public holiday, b = Easter holiday, c = Christmas, 0 = None'\n",
    "df_idd.loc['SchoolHoliday', 'description'] = 'indicates if the (Store, Date) was affected by the closure of public schools'\n",
    "df_idd.loc['StoreType', 'description'] = 'differentiates between 4 different store models: a, b, c, d'\n",
    "df_idd.loc['Assortment', 'description'] = 'describes an assortment level: a = basic, b = extra, c = extended'  \n",
    "df_idd.loc['CompetitionDistance', 'description'] = 'distance in meters to the nearest competitor store'\n",
    "df_idd.loc['CompetitionOpenSinceMonth', 'description'] = 'gives the approximate year and month of the time the nearest competitor was opened'\n",
    "df_idd.loc['CompetitionOpenSinceYear', 'description'] = 'gives the approximate year and month of the time the nearest competitor was opened'\n",
    "df_idd.loc['Promo2', 'description'] = 'Promo2 is a continuing and consecutive promotion for some stores: 0 = store is not participating, 1 = store is participating'\n",
    "df_idd.loc['Promo2SinceWeek', 'description'] = 'describes the year and calendar week when the store started participating in Promo2'\n",
    "df_idd.loc['Promo2SinceYear', 'description'] = 'describes the year and calendar week when the store started participating in Promo2'\n",
    "df_idd.loc['PromoInterval', 'description'] = 'describes the consecutive intervals Promo2 is started, naming the months the promotion is started anew. E.g. \"Feb,May,Aug,Nov\" means each round starts in February, May, August, November of any given year for that store'"
   ]
  },
  {
   "cell_type": "code",
   "execution_count": 6,
   "id": "00943374",
   "metadata": {
    "ExecuteTime": {
     "end_time": "2023-04-03T21:15:07.862620Z",
     "start_time": "2023-04-03T21:15:07.859338Z"
    },
    "hide_input": false
   },
   "outputs": [],
   "source": [
    "df_idd['dtype'] = df_raw.dtypes"
   ]
  },
  {
   "cell_type": "code",
   "execution_count": 7,
   "id": "7b281e03",
   "metadata": {
    "ExecuteTime": {
     "end_time": "2023-04-03T21:15:08.923565Z",
     "start_time": "2023-04-03T21:15:08.452718Z"
    },
    "hide_input": false
   },
   "outputs": [],
   "source": [
    "df_idd['NAs'] = df_raw.isna().sum()"
   ]
  },
  {
   "cell_type": "code",
   "execution_count": 8,
   "id": "b9d17094",
   "metadata": {
    "ExecuteTime": {
     "end_time": "2023-04-03T21:15:09.750067Z",
     "start_time": "2023-04-03T21:15:09.480864Z"
    },
    "hide_input": false
   },
   "outputs": [],
   "source": [
    "df_idd['uniques'] = df_raw.nunique()"
   ]
  },
  {
   "cell_type": "code",
   "execution_count": 9,
   "id": "897008fb",
   "metadata": {
    "ExecuteTime": {
     "end_time": "2023-04-03T21:15:11.124237Z",
     "start_time": "2023-04-03T21:15:11.073630Z"
    },
    "hide_input": true,
    "scrolled": false
   },
   "outputs": [
    {
     "name": "stdout",
     "output_type": "stream",
     "text": [
      "df_raw contains 1017209 lines with 18 columns each\n"
     ]
    },
    {
     "data": {
      "text/html": [
       "<style type=\"text/css\">\n",
       "#T_c6f74 th {\n",
       "  text-align: left;\n",
       "}\n",
       "#T_c6f74_row0_col0, #T_c6f74_row0_col1, #T_c6f74_row1_col0, #T_c6f74_row1_col1, #T_c6f74_row2_col0, #T_c6f74_row2_col1, #T_c6f74_row3_col0, #T_c6f74_row3_col1, #T_c6f74_row4_col0, #T_c6f74_row4_col1, #T_c6f74_row5_col0, #T_c6f74_row5_col1, #T_c6f74_row6_col0, #T_c6f74_row6_col1, #T_c6f74_row7_col0, #T_c6f74_row7_col1, #T_c6f74_row8_col0, #T_c6f74_row8_col1, #T_c6f74_row9_col0, #T_c6f74_row9_col1, #T_c6f74_row10_col0, #T_c6f74_row10_col1, #T_c6f74_row11_col0, #T_c6f74_row11_col1, #T_c6f74_row12_col0, #T_c6f74_row12_col1, #T_c6f74_row13_col0, #T_c6f74_row13_col1, #T_c6f74_row14_col0, #T_c6f74_row14_col1, #T_c6f74_row15_col0, #T_c6f74_row15_col1, #T_c6f74_row16_col0, #T_c6f74_row16_col1, #T_c6f74_row17_col0, #T_c6f74_row17_col1 {\n",
       "  text-align: left;\n",
       "}\n",
       "#T_c6f74_row0_col2, #T_c6f74_row0_col3, #T_c6f74_row0_col4, #T_c6f74_row1_col2, #T_c6f74_row1_col3, #T_c6f74_row1_col4, #T_c6f74_row2_col2, #T_c6f74_row2_col3, #T_c6f74_row2_col4, #T_c6f74_row3_col2, #T_c6f74_row3_col3, #T_c6f74_row3_col4, #T_c6f74_row4_col2, #T_c6f74_row4_col3, #T_c6f74_row4_col4, #T_c6f74_row5_col2, #T_c6f74_row5_col3, #T_c6f74_row5_col4, #T_c6f74_row6_col2, #T_c6f74_row6_col3, #T_c6f74_row6_col4, #T_c6f74_row7_col2, #T_c6f74_row7_col3, #T_c6f74_row7_col4, #T_c6f74_row8_col2, #T_c6f74_row8_col3, #T_c6f74_row8_col4, #T_c6f74_row9_col2, #T_c6f74_row9_col3, #T_c6f74_row9_col4, #T_c6f74_row10_col2, #T_c6f74_row10_col3, #T_c6f74_row10_col4, #T_c6f74_row11_col2, #T_c6f74_row11_col3, #T_c6f74_row11_col4, #T_c6f74_row12_col2, #T_c6f74_row12_col3, #T_c6f74_row12_col4, #T_c6f74_row13_col2, #T_c6f74_row13_col3, #T_c6f74_row13_col4, #T_c6f74_row14_col2, #T_c6f74_row14_col3, #T_c6f74_row14_col4, #T_c6f74_row15_col2, #T_c6f74_row15_col3, #T_c6f74_row15_col4, #T_c6f74_row16_col2, #T_c6f74_row16_col3, #T_c6f74_row16_col4, #T_c6f74_row17_col2, #T_c6f74_row17_col3, #T_c6f74_row17_col4 {\n",
       "  text-align: center;\n",
       "}\n",
       "</style>\n",
       "<table id=\"T_c6f74\">\n",
       "  <thead>\n",
       "    <tr>\n",
       "      <th id=\"T_c6f74_level0_col0\" class=\"col_heading level0 col0\" >column</th>\n",
       "      <th id=\"T_c6f74_level0_col1\" class=\"col_heading level0 col1\" >description</th>\n",
       "      <th id=\"T_c6f74_level0_col2\" class=\"col_heading level0 col2\" >dtype</th>\n",
       "      <th id=\"T_c6f74_level0_col3\" class=\"col_heading level0 col3\" >NAs</th>\n",
       "      <th id=\"T_c6f74_level0_col4\" class=\"col_heading level0 col4\" >uniques</th>\n",
       "    </tr>\n",
       "  </thead>\n",
       "  <tbody>\n",
       "    <tr>\n",
       "      <td id=\"T_c6f74_row0_col0\" class=\"data row0 col0\" >Store</td>\n",
       "      <td id=\"T_c6f74_row0_col1\" class=\"data row0 col1\" >a unique Id for each store</td>\n",
       "      <td id=\"T_c6f74_row0_col2\" class=\"data row0 col2\" >int64</td>\n",
       "      <td id=\"T_c6f74_row0_col3\" class=\"data row0 col3\" >0</td>\n",
       "      <td id=\"T_c6f74_row0_col4\" class=\"data row0 col4\" >1115</td>\n",
       "    </tr>\n",
       "    <tr>\n",
       "      <td id=\"T_c6f74_row1_col0\" class=\"data row1 col0\" >DayOfWeek</td>\n",
       "      <td id=\"T_c6f74_row1_col1\" class=\"data row1 col1\" >day of week</td>\n",
       "      <td id=\"T_c6f74_row1_col2\" class=\"data row1 col2\" >int64</td>\n",
       "      <td id=\"T_c6f74_row1_col3\" class=\"data row1 col3\" >0</td>\n",
       "      <td id=\"T_c6f74_row1_col4\" class=\"data row1 col4\" >7</td>\n",
       "    </tr>\n",
       "    <tr>\n",
       "      <td id=\"T_c6f74_row2_col0\" class=\"data row2 col0\" >Date</td>\n",
       "      <td id=\"T_c6f74_row2_col1\" class=\"data row2 col1\" >data</td>\n",
       "      <td id=\"T_c6f74_row2_col2\" class=\"data row2 col2\" >object</td>\n",
       "      <td id=\"T_c6f74_row2_col3\" class=\"data row2 col3\" >0</td>\n",
       "      <td id=\"T_c6f74_row2_col4\" class=\"data row2 col4\" >942</td>\n",
       "    </tr>\n",
       "    <tr>\n",
       "      <td id=\"T_c6f74_row3_col0\" class=\"data row3 col0\" >Sales</td>\n",
       "      <td id=\"T_c6f74_row3_col1\" class=\"data row3 col1\" >the turnover for any given day (this is what you are predicting)</td>\n",
       "      <td id=\"T_c6f74_row3_col2\" class=\"data row3 col2\" >int64</td>\n",
       "      <td id=\"T_c6f74_row3_col3\" class=\"data row3 col3\" >0</td>\n",
       "      <td id=\"T_c6f74_row3_col4\" class=\"data row3 col4\" >21734</td>\n",
       "    </tr>\n",
       "    <tr>\n",
       "      <td id=\"T_c6f74_row4_col0\" class=\"data row4 col0\" >Customers</td>\n",
       "      <td id=\"T_c6f74_row4_col1\" class=\"data row4 col1\" >the number of customers on a given day</td>\n",
       "      <td id=\"T_c6f74_row4_col2\" class=\"data row4 col2\" >int64</td>\n",
       "      <td id=\"T_c6f74_row4_col3\" class=\"data row4 col3\" >0</td>\n",
       "      <td id=\"T_c6f74_row4_col4\" class=\"data row4 col4\" >4086</td>\n",
       "    </tr>\n",
       "    <tr>\n",
       "      <td id=\"T_c6f74_row5_col0\" class=\"data row5 col0\" >Open</td>\n",
       "      <td id=\"T_c6f74_row5_col1\" class=\"data row5 col1\" >an indicator for whether the store was open: 0 = closed, 1 = open</td>\n",
       "      <td id=\"T_c6f74_row5_col2\" class=\"data row5 col2\" >int64</td>\n",
       "      <td id=\"T_c6f74_row5_col3\" class=\"data row5 col3\" >0</td>\n",
       "      <td id=\"T_c6f74_row5_col4\" class=\"data row5 col4\" >2</td>\n",
       "    </tr>\n",
       "    <tr>\n",
       "      <td id=\"T_c6f74_row6_col0\" class=\"data row6 col0\" >Promo</td>\n",
       "      <td id=\"T_c6f74_row6_col1\" class=\"data row6 col1\" >indicates whether a store is running a promo on that day</td>\n",
       "      <td id=\"T_c6f74_row6_col2\" class=\"data row6 col2\" >int64</td>\n",
       "      <td id=\"T_c6f74_row6_col3\" class=\"data row6 col3\" >0</td>\n",
       "      <td id=\"T_c6f74_row6_col4\" class=\"data row6 col4\" >2</td>\n",
       "    </tr>\n",
       "    <tr>\n",
       "      <td id=\"T_c6f74_row7_col0\" class=\"data row7 col0\" >StateHoliday</td>\n",
       "      <td id=\"T_c6f74_row7_col1\" class=\"data row7 col1\" > indicates a state holiday. Normally all stores, with few exceptions, are closed on state holidays. Note that all schools are closed on public holidays and weekends. a = public holiday, b = Easter holiday, c = Christmas, 0 = None</td>\n",
       "      <td id=\"T_c6f74_row7_col2\" class=\"data row7 col2\" >object</td>\n",
       "      <td id=\"T_c6f74_row7_col3\" class=\"data row7 col3\" >0</td>\n",
       "      <td id=\"T_c6f74_row7_col4\" class=\"data row7 col4\" >4</td>\n",
       "    </tr>\n",
       "    <tr>\n",
       "      <td id=\"T_c6f74_row8_col0\" class=\"data row8 col0\" >SchoolHoliday</td>\n",
       "      <td id=\"T_c6f74_row8_col1\" class=\"data row8 col1\" >indicates if the (Store, Date) was affected by the closure of public schools</td>\n",
       "      <td id=\"T_c6f74_row8_col2\" class=\"data row8 col2\" >int64</td>\n",
       "      <td id=\"T_c6f74_row8_col3\" class=\"data row8 col3\" >0</td>\n",
       "      <td id=\"T_c6f74_row8_col4\" class=\"data row8 col4\" >2</td>\n",
       "    </tr>\n",
       "    <tr>\n",
       "      <td id=\"T_c6f74_row9_col0\" class=\"data row9 col0\" >StoreType</td>\n",
       "      <td id=\"T_c6f74_row9_col1\" class=\"data row9 col1\" >differentiates between 4 different store models: a, b, c, d</td>\n",
       "      <td id=\"T_c6f74_row9_col2\" class=\"data row9 col2\" >object</td>\n",
       "      <td id=\"T_c6f74_row9_col3\" class=\"data row9 col3\" >0</td>\n",
       "      <td id=\"T_c6f74_row9_col4\" class=\"data row9 col4\" >4</td>\n",
       "    </tr>\n",
       "    <tr>\n",
       "      <td id=\"T_c6f74_row10_col0\" class=\"data row10 col0\" >Assortment</td>\n",
       "      <td id=\"T_c6f74_row10_col1\" class=\"data row10 col1\" >describes an assortment level: a = basic, b = extra, c = extended</td>\n",
       "      <td id=\"T_c6f74_row10_col2\" class=\"data row10 col2\" >object</td>\n",
       "      <td id=\"T_c6f74_row10_col3\" class=\"data row10 col3\" >0</td>\n",
       "      <td id=\"T_c6f74_row10_col4\" class=\"data row10 col4\" >3</td>\n",
       "    </tr>\n",
       "    <tr>\n",
       "      <td id=\"T_c6f74_row11_col0\" class=\"data row11 col0\" >CompetitionDistance</td>\n",
       "      <td id=\"T_c6f74_row11_col1\" class=\"data row11 col1\" >distance in meters to the nearest competitor store</td>\n",
       "      <td id=\"T_c6f74_row11_col2\" class=\"data row11 col2\" >float64</td>\n",
       "      <td id=\"T_c6f74_row11_col3\" class=\"data row11 col3\" >2642</td>\n",
       "      <td id=\"T_c6f74_row11_col4\" class=\"data row11 col4\" >654</td>\n",
       "    </tr>\n",
       "    <tr>\n",
       "      <td id=\"T_c6f74_row12_col0\" class=\"data row12 col0\" >CompetitionOpenSinceMonth</td>\n",
       "      <td id=\"T_c6f74_row12_col1\" class=\"data row12 col1\" >gives the approximate year and month of the time the nearest competitor was opened</td>\n",
       "      <td id=\"T_c6f74_row12_col2\" class=\"data row12 col2\" >float64</td>\n",
       "      <td id=\"T_c6f74_row12_col3\" class=\"data row12 col3\" >323348</td>\n",
       "      <td id=\"T_c6f74_row12_col4\" class=\"data row12 col4\" >12</td>\n",
       "    </tr>\n",
       "    <tr>\n",
       "      <td id=\"T_c6f74_row13_col0\" class=\"data row13 col0\" >CompetitionOpenSinceYear</td>\n",
       "      <td id=\"T_c6f74_row13_col1\" class=\"data row13 col1\" >gives the approximate year and month of the time the nearest competitor was opened</td>\n",
       "      <td id=\"T_c6f74_row13_col2\" class=\"data row13 col2\" >float64</td>\n",
       "      <td id=\"T_c6f74_row13_col3\" class=\"data row13 col3\" >323348</td>\n",
       "      <td id=\"T_c6f74_row13_col4\" class=\"data row13 col4\" >23</td>\n",
       "    </tr>\n",
       "    <tr>\n",
       "      <td id=\"T_c6f74_row14_col0\" class=\"data row14 col0\" >Promo2</td>\n",
       "      <td id=\"T_c6f74_row14_col1\" class=\"data row14 col1\" >Promo2 is a continuing and consecutive promotion for some stores: 0 = store is not participating, 1 = store is participating</td>\n",
       "      <td id=\"T_c6f74_row14_col2\" class=\"data row14 col2\" >int64</td>\n",
       "      <td id=\"T_c6f74_row14_col3\" class=\"data row14 col3\" >0</td>\n",
       "      <td id=\"T_c6f74_row14_col4\" class=\"data row14 col4\" >2</td>\n",
       "    </tr>\n",
       "    <tr>\n",
       "      <td id=\"T_c6f74_row15_col0\" class=\"data row15 col0\" >Promo2SinceWeek</td>\n",
       "      <td id=\"T_c6f74_row15_col1\" class=\"data row15 col1\" >describes the year and calendar week when the store started participating in Promo2</td>\n",
       "      <td id=\"T_c6f74_row15_col2\" class=\"data row15 col2\" >float64</td>\n",
       "      <td id=\"T_c6f74_row15_col3\" class=\"data row15 col3\" >508031</td>\n",
       "      <td id=\"T_c6f74_row15_col4\" class=\"data row15 col4\" >24</td>\n",
       "    </tr>\n",
       "    <tr>\n",
       "      <td id=\"T_c6f74_row16_col0\" class=\"data row16 col0\" >Promo2SinceYear</td>\n",
       "      <td id=\"T_c6f74_row16_col1\" class=\"data row16 col1\" >describes the year and calendar week when the store started participating in Promo2</td>\n",
       "      <td id=\"T_c6f74_row16_col2\" class=\"data row16 col2\" >float64</td>\n",
       "      <td id=\"T_c6f74_row16_col3\" class=\"data row16 col3\" >508031</td>\n",
       "      <td id=\"T_c6f74_row16_col4\" class=\"data row16 col4\" >7</td>\n",
       "    </tr>\n",
       "    <tr>\n",
       "      <td id=\"T_c6f74_row17_col0\" class=\"data row17 col0\" >PromoInterval</td>\n",
       "      <td id=\"T_c6f74_row17_col1\" class=\"data row17 col1\" >describes the consecutive intervals Promo2 is started, naming the months the promotion is started anew. E.g. \"Feb,May,Aug,Nov\" means each round starts in February, May, August, November of any given year for that store</td>\n",
       "      <td id=\"T_c6f74_row17_col2\" class=\"data row17 col2\" >object</td>\n",
       "      <td id=\"T_c6f74_row17_col3\" class=\"data row17 col3\" >508031</td>\n",
       "      <td id=\"T_c6f74_row17_col4\" class=\"data row17 col4\" >3</td>\n",
       "    </tr>\n",
       "  </tbody>\n",
       "</table>\n"
      ],
      "text/plain": [
       "<pandas.io.formats.style.Styler at 0x7f39c2ec3c40>"
      ]
     },
     "execution_count": 9,
     "metadata": {},
     "output_type": "execute_result"
    }
   ],
   "source": [
    "print(f'df_raw contains {df_raw.shape[0]} lines with {df_raw.shape[1]} columns each')\n",
    "df_idd_styled = (df_idd.style.set_properties(subset=['column', 'description'], **{'text-align': 'left'})\n",
    "                             .set_properties(subset=['dtype', 'NAs', 'uniques'], **{'text-align': 'center'})\n",
    "                             .set_table_styles([{'selector': 'th', \n",
    "                                                 'props': [('text-align', 'left')]}])\n",
    "                             .hide(axis='index'))\n",
    "df_idd_styled"
   ]
  },
  {
   "cell_type": "markdown",
   "id": "a1f5ad29",
   "metadata": {},
   "source": [
    "# Data Exploration & Preparation (DE&P)"
   ]
  },
  {
   "cell_type": "code",
   "execution_count": 10,
   "id": "e5db591c",
   "metadata": {
    "ExecuteTime": {
     "end_time": "2023-04-03T21:15:21.586329Z",
     "start_time": "2023-04-03T21:15:21.528806Z"
    }
   },
   "outputs": [],
   "source": [
    "tracker = Tracker(df_raw.copy())"
   ]
  },
  {
   "cell_type": "markdown",
   "id": "4907a3c8",
   "metadata": {},
   "source": [
    "## All Columns"
   ]
  },
  {
   "cell_type": "markdown",
   "id": "d0664ff6",
   "metadata": {},
   "source": [
    "### Rename"
   ]
  },
  {
   "cell_type": "code",
   "execution_count": 14,
   "id": "7bcc10eb",
   "metadata": {
    "ExecuteTime": {
     "end_time": "2023-04-03T21:16:07.009704Z",
     "start_time": "2023-04-03T21:16:07.003298Z"
    }
   },
   "outputs": [
    {
     "name": "stdout",
     "output_type": "stream",
     "text": [
      "Renamed all columns to snake_case pattern\n"
     ]
    }
   ],
   "source": [
    "def rename_all_columns(data):\n",
    "    old_names = data.columns\n",
    "    new_names = list(map(inflection.underscore, old_names))\n",
    "    data.columns = new_names\n",
    "    return data\n",
    "\n",
    "tracker.track('_general_', 'rename', rename_all_columns, 'Rename all columns to snake_case')\n",
    "\n",
    "print('Renamed all columns to snake_case pattern')"
   ]
  },
  {
   "cell_type": "markdown",
   "id": "97764d52",
   "metadata": {},
   "source": [
    "## sales"
   ]
  },
  {
   "cell_type": "markdown",
   "id": "d398877e",
   "metadata": {},
   "source": [
    "### #1 Univariated Analysis"
   ]
  },
  {
   "cell_type": "code",
   "execution_count": 21,
   "id": "3b1d9834",
   "metadata": {
    "ExecuteTime": {
     "end_time": "2023-04-03T21:20:14.613027Z",
     "start_time": "2023-04-03T21:20:13.612904Z"
    }
   },
   "outputs": [
    {
     "data": {
      "image/png": "[encoded data removed]",
      "text/plain": [
       "<Figure size 640x480 with 1 Axes>"
      ]
     },
     "metadata": {},
     "output_type": "display_data"
    }
   ],
   "source": [
    "data = tracker.data.copy()\n",
    "\n",
    "sns.histplot(data['sales']);\n",
    "plt.title('Column sales distribution');"
   ]
  },
  {
   "cell_type": "code",
   "execution_count": 22,
   "id": "e21772f1",
   "metadata": {
    "ExecuteTime": {
     "end_time": "2023-04-03T21:20:16.818044Z",
     "start_time": "2023-04-03T21:20:16.814849Z"
    }
   },
   "outputs": [
    {
     "name": "stdout",
     "output_type": "stream",
     "text": [
      "There are a lot of rows with sales equal to 0. \n",
      "It is interesting to drop the lines with 0 values to consider them as NA values.\n"
     ]
    }
   ],
   "source": [
    "print('''There are a lot of rows with sales equal to 0. \n",
    "It is interesting to drop the lines with 0 values to consider them as NA values.''')"
   ]
  },
  {
   "cell_type": "markdown",
   "id": "ee4be065",
   "metadata": {},
   "source": [
    "### Type"
   ]
  },
  {
   "cell_type": "code",
   "execution_count": 24,
   "id": "c7f1ce51",
   "metadata": {
    "ExecuteTime": {
     "end_time": "2023-04-03T21:20:31.384835Z",
     "start_time": "2023-04-03T21:20:31.316160Z"
    }
   },
   "outputs": [
    {
     "name": "stdout",
     "output_type": "stream",
     "text": [
      "Column sales has the right type: int64.\n"
     ]
    }
   ],
   "source": [
    "data = tracker.data.copy()\n",
    "if data['sales'].dtype == 'int64':\n",
    "    print(\"Column sales has the right type: int64.\")\n",
    "else:\n",
    "    print('Please check here.')"
   ]
  },
  {
   "cell_type": "markdown",
   "id": "715fd601",
   "metadata": {},
   "source": [
    "### NAs"
   ]
  },
  {
   "cell_type": "code",
   "execution_count": 25,
   "id": "0bd54f09",
   "metadata": {
    "ExecuteTime": {
     "end_time": "2023-04-03T21:20:35.312705Z",
     "start_time": "2023-04-03T21:20:35.250444Z"
    }
   },
   "outputs": [
    {
     "name": "stdout",
     "output_type": "stream",
     "text": [
      "Droped lines with sales equal to 0. \n"
     ]
    }
   ],
   "source": [
    "def treatNA_sales(data):\n",
    "    data = data[(~data['sales'].isna()) & (data['sales'] != 0)]\n",
    "    return data\n",
    "\n",
    "tracker.track('sales', 'treatNA', treatNA_sales, 'Drop lines with NAs or 0 values to sales')\n",
    "\n",
    "print('Droped lines with sales equal to 0. ')"
   ]
  },
  {
   "cell_type": "markdown",
   "id": "5c96138b",
   "metadata": {},
   "source": [
    "### #2 Univariated Analysis"
   ]
  },
  {
   "cell_type": "code",
   "execution_count": 26,
   "id": "ec5fb474",
   "metadata": {
    "ExecuteTime": {
     "end_time": "2023-04-03T21:20:52.121468Z",
     "start_time": "2023-04-03T21:20:51.252329Z"
    },
    "scrolled": false
   },
   "outputs": [
    {
     "data": {
      "image/png": "[encoded data removed]",
      "text/plain": [
       "<Figure size 640x480 with 1 Axes>"
      ]
     },
     "metadata": {},
     "output_type": "display_data"
    }
   ],
   "source": [
    "data = tracker.data.copy()\n",
    "sns.histplot(data['sales'])\n",
    "plt.title('Column sales distribution');"
   ]
  },
  {
   "cell_type": "code",
   "execution_count": 27,
   "id": "0b81be95",
   "metadata": {
    "ExecuteTime": {
     "end_time": "2023-04-03T21:20:54.439655Z",
     "start_time": "2023-04-03T21:20:54.432018Z"
    }
   },
   "outputs": [
    {
     "name": "stdout",
     "output_type": "stream",
     "text": [
      "Sales column has distribution near to a normal distribution.\n",
      "How the machine learning models handle better with normal distributions, \n",
      "its interesting to apply a log function to model the distribution closer to a normal\n"
     ]
    }
   ],
   "source": [
    "print('''Sales column has distribution near to a normal distribution.\n",
    "How the machine learning models handle better with normal distributions, \n",
    "its interesting to apply a log function to model the distribution closer to a normal''')"
   ]
  },
  {
   "cell_type": "markdown",
   "id": "abe7e4f9",
   "metadata": {},
   "source": [
    "### Reshape"
   ]
  },
  {
   "cell_type": "code",
   "execution_count": 36,
   "id": "0e7c369e",
   "metadata": {
    "ExecuteTime": {
     "end_time": "2023-04-03T21:23:26.868566Z",
     "start_time": "2023-04-03T21:23:23.466810Z"
    }
   },
   "outputs": [
    {
     "name": "stdout",
     "output_type": "stream",
     "text": [
      "Reshaped column sales to get closer to a normal distribution\n"
     ]
    }
   ],
   "source": [
    "def reshape_sales(data):\n",
    "    data.loc[:, 'sales'] = np.log1p(data['sales'])\n",
    "    return data\n",
    "\n",
    "tracker.track('sales', 'reshape', reshape_sales, 'Reshape column sales to get closer to a normal distribution')\n",
    "\n",
    "print('Reshaped column sales to get closer to a normal distribution')"
   ]
  },
  {
   "cell_type": "markdown",
   "id": "45956876",
   "metadata": {},
   "source": [
    "### #3 Univariated Analysis"
   ]
  },
  {
   "cell_type": "code",
   "execution_count": 37,
   "id": "a64cdc77",
   "metadata": {
    "ExecuteTime": {
     "end_time": "2023-04-03T21:23:30.601352Z",
     "start_time": "2023-04-03T21:23:29.684635Z"
    },
    "scrolled": false
   },
   "outputs": [
    {
     "data": {
      "image/png": "[encoded data removed]",
      "text/plain": [
       "<Figure size 640x480 with 1 Axes>"
      ]
     },
     "metadata": {},
     "output_type": "display_data"
    }
   ],
   "source": [
    "data = tracker.data.copy()\n",
    "sns.histplot(data['sales'])\n",
    "plt.title('Column sales distribution');"
   ]
  },
  {
   "cell_type": "markdown",
   "id": "e5802c50",
   "metadata": {},
   "source": [
    "## store"
   ]
  },
  {
   "cell_type": "markdown",
   "id": "48203cac",
   "metadata": {},
   "source": [
    "### Univariated Analysis"
   ]
  },
  {
   "cell_type": "code",
   "execution_count": 38,
   "id": "97b05a80",
   "metadata": {
    "ExecuteTime": {
     "end_time": "2023-04-03T21:24:05.959027Z",
     "start_time": "2023-04-03T21:24:05.508447Z"
    }
   },
   "outputs": [
    {
     "data": {
      "image/png": "[encoded data removed]",
      "text/plain": [
       "<Figure size 640x480 with 1 Axes>"
      ]
     },
     "metadata": {},
     "output_type": "display_data"
    }
   ],
   "source": [
    "data = tracker.data.copy()\n",
    "\n",
    "sns.histplot(data['store'])\n",
    "plt.title('Column store distribution');"
   ]
  },
  {
   "cell_type": "code",
   "execution_count": 47,
   "id": "8e479e1b",
   "metadata": {
    "ExecuteTime": {
     "end_time": "2023-04-03T21:27:07.100063Z",
     "start_time": "2023-04-03T21:27:07.097464Z"
    }
   },
   "outputs": [
    {
     "name": "stdout",
     "output_type": "stream",
     "text": [
      "There is no pattern in the column store distribution, \n",
      "showing that the sales records are well distributed over the stores (balanced data).\n"
     ]
    }
   ],
   "source": [
    "print('''There is no pattern in the column store distribution, \n",
    "showing that the sales records are well distributed over the stores (balanced data).''')"
   ]
  },
  {
   "cell_type": "markdown",
   "id": "8a534f02",
   "metadata": {},
   "source": [
    "### Type"
   ]
  },
  {
   "cell_type": "code",
   "execution_count": 40,
   "id": "b6c0c767",
   "metadata": {
    "ExecuteTime": {
     "end_time": "2023-04-03T21:25:19.899243Z",
     "start_time": "2023-04-03T21:25:19.825824Z"
    }
   },
   "outputs": [
    {
     "name": "stdout",
     "output_type": "stream",
     "text": [
      "Column store has the right type: int64.\n"
     ]
    }
   ],
   "source": [
    "data = tracker.data.copy()\n",
    "if data['store'].dtype == 'int64':\n",
    "    print(\"Column store has the right type: int64.\")\n",
    "else:\n",
    "    print('Please check here.')"
   ]
  },
  {
   "cell_type": "markdown",
   "id": "4dfcae7f",
   "metadata": {},
   "source": [
    "### NAs"
   ]
  },
  {
   "cell_type": "code",
   "execution_count": 41,
   "id": "d84dcb10",
   "metadata": {
    "ExecuteTime": {
     "end_time": "2023-04-03T21:25:21.683121Z",
     "start_time": "2023-04-03T21:25:21.567291Z"
    },
    "scrolled": true
   },
   "outputs": [
    {
     "name": "stdout",
     "output_type": "stream",
     "text": [
      "No NA found.\n",
      "\n",
      "Rules considered to verify the presence of NAs:\n",
      "1 - NA values\n",
      "2 - 0 values\n",
      "\n"
     ]
    }
   ],
   "source": [
    "data = tracker.data.copy()\n",
    "if (min(data['store'].unique()) > 0) and (sum(data['store'].isna()) == 0):\n",
    "    print('No NA found.')\n",
    "else:\n",
    "    print('Please check here.')\n",
    "    \n",
    "print('''\n",
    "Rules considered to verify the presence of NAs:\n",
    "1 - NA values\n",
    "2 - 0 values\n",
    "''')"
   ]
  },
  {
   "cell_type": "markdown",
   "id": "07025416",
   "metadata": {},
   "source": [
    "### Bivariated Analysis"
   ]
  },
  {
   "cell_type": "code",
   "execution_count": 42,
   "id": "169e4cd7",
   "metadata": {
    "ExecuteTime": {
     "end_time": "2023-04-03T21:25:27.386429Z",
     "start_time": "2023-04-03T21:25:27.037601Z"
    }
   },
   "outputs": [
    {
     "name": "stdout",
     "output_type": "stream",
     "text": [
      "Looking to the variations of sum and mean for the column sales grouped by the column store...\n"
     ]
    },
    {
     "data": {
      "image/png": "[encoded data removed]",
      "text/plain": [
       "<Figure size 1600x400 with 2 Axes>"
      ]
     },
     "metadata": {},
     "output_type": "display_data"
    }
   ],
   "source": [
    "data = tracker.data.copy()\n",
    "data['sales'] = np.expm1(data['sales']) #returning sales to normal values\n",
    "data = (data.loc[:, ['store', 'sales']]\n",
    "            .groupby('store')\n",
    "            .agg(['sum', 'mean'])\n",
    "            .droplevel(0, axis=1)\n",
    "            .reset_index())\n",
    "pearson_correlations = data.corr(method='pearson')\n",
    "\n",
    "print('Looking to the variations of sum and mean for the column sales grouped by the column store...')\n",
    "fig, (ax1, ax2) = plt.subplots(1, 2, figsize=(16,4))\n",
    "sns.lineplot(x=data['store'], y=data['sum'], ax=ax1)\n",
    "ax1.set_title('pearson: {:.3f}'.format(pearson_correlations.at['store', 'sum']))\n",
    "sns.lineplot(x=data['store'], y=data['mean'], ax=ax2)\n",
    "ax2.set_title('pearson: {:.3f}'.format(pearson_correlations.at['store', 'mean']))\n",
    "fig.subplots_adjust(wspace=0.15)"
   ]
  },
  {
   "cell_type": "code",
   "execution_count": 43,
   "id": "e9c3d935",
   "metadata": {
    "ExecuteTime": {
     "end_time": "2023-04-03T21:25:42.666933Z",
     "start_time": "2023-04-03T21:25:42.663697Z"
    }
   },
   "outputs": [
    {
     "name": "stdout",
     "output_type": "stream",
     "text": [
      "There is no apparent pattern when correlating store with sales.\n",
      "Neither Pearson's correlation nor the graphs showed anything.\n"
     ]
    }
   ],
   "source": [
    "print('''There is no apparent pattern when correlating store with sales.\n",
    "Neither Pearson's correlation nor the graphs showed anything.''')"
   ]
  },
  {
   "cell_type": "markdown",
   "id": "9e7be590",
   "metadata": {},
   "source": [
    "## date"
   ]
  },
  {
   "cell_type": "markdown",
   "id": "10e037bd",
   "metadata": {},
   "source": [
    "### Type"
   ]
  },
  {
   "cell_type": "code",
   "execution_count": 44,
   "id": "184525b5",
   "metadata": {
    "ExecuteTime": {
     "end_time": "2023-04-03T21:25:51.355596Z",
     "start_time": "2023-04-03T21:25:51.283400Z"
    }
   },
   "outputs": [
    {
     "name": "stdout",
     "output_type": "stream",
     "text": [
      "Retyped column date from object to datetime64[ns]\n"
     ]
    }
   ],
   "source": [
    "def retype_date(data):\n",
    "    data['date'] = pd.to_datetime(data['date'])\n",
    "    return data\n",
    "\n",
    "tracker.track('date', 'retype', retype_date, 'Retype column date from object to datetime64[ns]')\n",
    "\n",
    "print('Retyped column date from object to datetime64[ns]')"
   ]
  },
  {
   "cell_type": "markdown",
   "id": "2f73ba16",
   "metadata": {},
   "source": [
    "### Univariated Analysis"
   ]
  },
  {
   "cell_type": "code",
   "execution_count": 64,
   "id": "0a259fac",
   "metadata": {
    "ExecuteTime": {
     "end_time": "2023-04-03T22:04:55.949621Z",
     "start_time": "2023-04-03T22:04:52.105661Z"
    },
    "scrolled": false
   },
   "outputs": [
    {
     "data": {
      "image/png": "[encoded data removed]",
      "text/plain": [
       "<Figure size 640x480 with 1 Axes>"
      ]
     },
     "metadata": {},
     "output_type": "display_data"
    }
   ],
   "source": [
    "data = tracker.data.copy()\n",
    "\n",
    "sns.histplot(data['date'], kde=True)\n",
    "plt.title('Column date distribuition')\n",
    "plt.xticks(rotation=90);"
   ]
  },
  {
   "cell_type": "code",
   "execution_count": 48,
   "id": "c73657a5",
   "metadata": {
    "ExecuteTime": {
     "end_time": "2023-04-03T21:27:27.580402Z",
     "start_time": "2023-04-03T21:27:27.577245Z"
    },
    "scrolled": true
   },
   "outputs": [
    {
     "name": "stdout",
     "output_type": "stream",
     "text": [
      "There is no pattern in the column 'date' distribution, \n",
      "showing that the sales records are well distributed over the date (balanced data).\n"
     ]
    }
   ],
   "source": [
    "print('''There is no pattern in the column 'date' distribution, \n",
    "showing that the sales records are well distributed over the date (balanced data).''')"
   ]
  },
  {
   "cell_type": "markdown",
   "id": "fb74ed2c",
   "metadata": {},
   "source": [
    "### Bivariated Analysis"
   ]
  },
  {
   "cell_type": "code",
   "execution_count": 87,
   "id": "6414671a",
   "metadata": {
    "ExecuteTime": {
     "end_time": "2023-04-03T22:20:50.155561Z",
     "start_time": "2023-04-03T22:20:49.797290Z"
    }
   },
   "outputs": [
    {
     "name": "stdout",
     "output_type": "stream",
     "text": [
      "Looking to the variations of sum and mean for the column sales grouped by the column date...\n"
     ]
    },
    {
     "data": {
      "image/png": "[encoded data removed]",
      "text/plain": [
       "<Figure size 1600x400 with 2 Axes>"
      ]
     },
     "metadata": {},
     "output_type": "display_data"
    }
   ],
   "source": [
    "data = tracker.data.copy()\n",
    "data['sales'] = np.expm1(data['sales']) #returning sales to normal values\n",
    "data = (data.loc[:, ['date', 'sales']]\n",
    "            .groupby(pd.Grouper(key='date', freq='M'))\n",
    "            .agg(['sum', 'mean'])\n",
    "            .droplevel(0, axis=1)\n",
    "            .reset_index())\n",
    "pearson_correlations = data.corr(method='pearson')\n",
    "print('Looking to the variations of sum and mean for the column sales grouped by the column date...')\n",
    "fig, (ax1, ax2) = plt.subplots(1, 2, figsize=(16,4))\n",
    "sns.lineplot(x=data['date'], y=data['sum'], ax=ax1)\n",
    "plt.setp(ax1.get_xticklabels(), rotation=90)\n",
    "ax1.set_ylim([0,250000000])\n",
    "sns.lineplot(x=data['date'], y=data['mean'], ax=ax2)\n",
    "plt.setp(ax2.get_xticklabels(), rotation=90)\n",
    "ax2.set_ylim([0,9000])\n",
    "fig.subplots_adjust(wspace=0.15)"
   ]
  },
  {
   "cell_type": "code",
   "execution_count": 88,
   "id": "a53bad4e",
   "metadata": {
    "ExecuteTime": {
     "end_time": "2023-04-03T22:31:07.022292Z",
     "start_time": "2023-04-03T22:31:07.018819Z"
    }
   },
   "outputs": [
    {
     "name": "stdout",
     "output_type": "stream",
     "text": [
      "Observing the curves with the sum and mean of sales over time,\n",
      "it is not possible to point out any pattern referring to the direction of the curve. \n",
      "However, there are patterns of peaks at the end/beginning of years.\n",
      "They will be better analyzed performing the same comparison but using the month or week of the year column (both in numerical mode) as a grouper.\n"
     ]
    }
   ],
   "source": [
    "print('''Observing the curves with the sum and mean of sales over time,\n",
    "it is not possible to point out any pattern referring to the direction of the curve. \n",
    "However, there are patterns of peaks at the end/beginning of years.\n",
    "They will be better analyzed performing the same comparison but using the month or week of the year column (both in numerical mode) as a grouper.''')"
   ]
  },
  {
   "cell_type": "markdown",
   "id": "cf51a7e6",
   "metadata": {
    "ExecuteTime": {
     "end_time": "2023-04-03T21:28:33.499683Z",
     "start_time": "2023-04-03T21:28:33.497609Z"
    }
   },
   "source": [
    "### Feature Engneering"
   ]
  },
  {
   "cell_type": "markdown",
   "id": "790b1934",
   "metadata": {
    "heading_collapsed": true
   },
   "source": [
    "## column [MODEL]"
   ]
  },
  {
   "cell_type": "markdown",
   "id": "35f1afb8",
   "metadata": {
    "hidden": true
   },
   "source": [
    "### Univariated Analysis"
   ]
  },
  {
   "cell_type": "markdown",
   "id": "0e3d6406",
   "metadata": {
    "hidden": true
   },
   "source": [
    "### Rename"
   ]
  },
  {
   "cell_type": "markdown",
   "id": "0701d270",
   "metadata": {
    "hidden": true
   },
   "source": [
    "### Type"
   ]
  },
  {
   "cell_type": "markdown",
   "id": "e0852d7e",
   "metadata": {
    "hidden": true
   },
   "source": [
    "### NAs"
   ]
  },
  {
   "cell_type": "markdown",
   "id": "beb9ee4b",
   "metadata": {
    "hidden": true
   },
   "source": [
    "### Normalization"
   ]
  },
  {
   "cell_type": "markdown",
   "id": "dc53258b",
   "metadata": {
    "hidden": true
   },
   "source": [
    "### Rescaling"
   ]
  },
  {
   "cell_type": "markdown",
   "id": "f3b32a6e",
   "metadata": {
    "hidden": true
   },
   "source": [
    "### Encoding"
   ]
  },
  {
   "cell_type": "markdown",
   "id": "6d31ae1b",
   "metadata": {
    "hidden": true
   },
   "source": [
    "### Nature Transformation"
   ]
  },
  {
   "cell_type": "markdown",
   "id": "c19cdd51",
   "metadata": {
    "hidden": true
   },
   "source": [
    "### Bivariated Analysis"
   ]
  }
 ],
 "metadata": {
  "hide_input": true,
  "kernelspec": {
   "display_name": "Python 3 (ipykernel)",
   "language": "python",
   "name": "python3"
  },
  "language_info": {
   "codemirror_mode": {
    "name": "ipython",
    "version": 3
   },
   "file_extension": ".py",
   "mimetype": "text/x-python",
   "name": "python",
   "nbconvert_exporter": "python",
   "pygments_lexer": "ipython3",
   "version": "3.9.13"
  },
  "toc": {
   "base_numbering": 1,
   "nav_menu": {},
   "number_sections": true,
   "sideBar": true,
   "skip_h1_title": false,
   "title_cell": "Table of Contents",
   "title_sidebar": "Contents",
   "toc_cell": false,
   "toc_position": {
    "height": "768px",
    "left": "380px",
    "top": "141px",
    "width": "289.172px"
   },
   "toc_section_display": true,
   "toc_window_display": true
  },
  "varInspector": {
   "cols": {
    "lenName": 16,
    "lenType": 16,
    "lenVar": 40
   },
   "kernels_config": {
    "python": {
     "delete_cmd_postfix": "",
     "delete_cmd_prefix": "del ",
     "library": "var_list.py",
     "varRefreshCmd": "print(var_dic_list())"
    },
    "r": {
     "delete_cmd_postfix": ") ",
     "delete_cmd_prefix": "rm(",
     "library": "var_list.r",
     "varRefreshCmd": "cat(var_dic_list()) "
    }
   },
   "position": {
    "height": "240.844px",
    "left": "1476px",
    "right": "20px",
    "top": "120px",
    "width": "382px"
   },
   "types_to_exclude": [
    "module",
    "function",
    "builtin_function_or_method",
    "instance",
    "_Feature"
   ],
   "window_display": false
  }
 },
 "nbformat": 4,
 "nbformat_minor": 5
}
